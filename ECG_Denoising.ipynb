{
 "cells": [
  {
   "cell_type": "markdown",
   "id": "ba518399",
   "metadata": {},
   "source": [
    "# ECG Denoising"
   ]
  },
  {
   "cell_type": "markdown",
   "id": "0ab8ac01",
   "metadata": {},
   "source": [
    "### Dependencies"
   ]
  },
  {
   "cell_type": "markdown",
   "id": "53f518ae",
   "metadata": {},
   "source": [
    "## Data Importation"
   ]
  },
  {
   "cell_type": "markdown",
   "id": "8c48d235",
   "metadata": {},
   "source": [
    "## Apply noise"
   ]
  },
  {
   "cell_type": "markdown",
   "id": "eac073e9",
   "metadata": {},
   "source": []
  }
 ],
 "metadata": {
  "language_info": {
   "name": "python"
  }
 },
 "nbformat": 4,
 "nbformat_minor": 5
}
